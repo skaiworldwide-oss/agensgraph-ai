{
 "cells": [
  {
   "cell_type": "code",
   "execution_count": null,
   "metadata": {},
   "outputs": [],
   "source": [
    "%pip install llama_index\n",
    "%pip install /path/to/llama_index_graph_stores_agensgraph-0.1.0-py3-none-any.whl"
   ]
  },
  {
   "cell_type": "code",
   "execution_count": 2,
   "metadata": {},
   "outputs": [],
   "source": [
    "from llama_index.graph_stores.agensgraph import AgensPropertyGraphStore"
   ]
  },
  {
   "cell_type": "code",
   "execution_count": 3,
   "metadata": {},
   "outputs": [],
   "source": [
    "conf = {\n",
    "    \"database\": \"test\",\n",
    "    \"user\": \"\",\n",
    "    \"password\": \"\",\n",
    "    \"host\": \"localhost\",\n",
    "    \"port\": 5432,\n",
    "}\n",
    "\n",
    "# If you want to create a new graph, add the argument `create=True` to the constructor\n",
    "graph_store = AgensPropertyGraphStore(graph_name=\"\", conf=conf, create=True)"
   ]
  },
  {
   "cell_type": "code",
   "execution_count": 4,
   "metadata": {},
   "outputs": [],
   "source": [
    "from llama_index.core.graph_stores.types import EntityNode, ChunkNode, Relation"
   ]
  },
  {
   "cell_type": "markdown",
   "metadata": {},
   "source": [
    "### GET"
   ]
  },
  {
   "cell_type": "code",
   "execution_count": 7,
   "metadata": {},
   "outputs": [
    {
     "data": {
      "text/plain": [
       "[ChunkNode(label='text_chunk', embedding=None, properties={}, text='Alice is a software engineer.', id_='-4768515847030714664')]"
      ]
     },
     "execution_count": 7,
     "metadata": {},
     "output_type": "execute_result"
    }
   ],
   "source": [
    "entity = EntityNode(label=\"PERSON\", name=\"Alice\")\n",
    "chunk = ChunkNode(text=\"Alice is a software engineer.\")\n",
    "graph_store.upsert_nodes([entity, chunk])\n",
    "\n",
    "# Get by ID\n",
    "graph_store.get(ids=[entity.id])\n",
    "graph_store.get(ids=[chunk.id])"
   ]
  },
  {
   "cell_type": "markdown",
   "metadata": {},
   "source": [
    "### get_triplets"
   ]
  },
  {
   "cell_type": "code",
   "execution_count": 8,
   "metadata": {},
   "outputs": [
    {
     "data": {
      "text/plain": [
       "[[EntityNode(label='PERSON', embedding=None, properties={'id': 'Alice'}, name='Alice'),\n",
       "  Relation(label='VISITED', source_id='Alice', target_id='Paris', properties={'year': 2023}),\n",
       "  EntityNode(label='CITY', embedding=None, properties={'id': 'Paris'}, name='Paris')]]"
      ]
     },
     "execution_count": 8,
     "metadata": {},
     "output_type": "execute_result"
    }
   ],
   "source": [
    "person = EntityNode(label=\"PERSON\", name=\"Alice\")\n",
    "city = EntityNode(label=\"CITY\", name=\"Paris\")\n",
    "graph_store.upsert_nodes([person, city])\n",
    "\n",
    "visited_relation = Relation(\n",
    "    source_id=person.id,\n",
    "    target_id=city.id,\n",
    "    label=\"VISITED\",\n",
    "    properties={\"year\": 2023},\n",
    ")\n",
    "graph_store.upsert_relations([visited_relation])\n",
    "\n",
    "graph_store.get_triplets(entity_names=[\"Alice\"])"
   ]
  },
  {
   "cell_type": "markdown",
   "metadata": {},
   "source": [
    "### get_rel_map()"
   ]
  },
  {
   "cell_type": "code",
   "execution_count": 9,
   "metadata": {},
   "outputs": [
    {
     "data": {
      "text/plain": [
       "[[EntityNode(label='PERSON', embedding=None, properties={'name': 'Alice'}, name='Alice'),\n",
       "  Relation(label='VISITED', source_id='Alice', target_id='Paris', properties={'year': 2023}),\n",
       "  EntityNode(label='CITY', embedding=None, properties={'name': 'Paris'}, name='Paris')],\n",
       " [EntityNode(label='PERSON', embedding=None, properties={'name': 'Bob'}, name='Bob'),\n",
       "  Relation(label='VISITED', source_id='Bob', target_id='London', properties={}),\n",
       "  EntityNode(label='CITY', embedding=None, properties={'name': 'London'}, name='London')],\n",
       " [EntityNode(label='PERSON', embedding=None, properties={'name': 'Alice'}, name='Alice'),\n",
       "  Relation(label='KNOWS', source_id='Alice', target_id='Bob', properties={}),\n",
       "  EntityNode(label='PERSON', embedding=None, properties={'name': 'Bob'}, name='Bob')],\n",
       " [EntityNode(label='PERSON', embedding=None, properties={'name': 'Alice'}, name='Alice'),\n",
       "  Relation(label='VISITED', source_id='Alice', target_id='Paris', properties={'year': 2023}),\n",
       "  EntityNode(label='CITY', embedding=None, properties={'name': 'Paris'}, name='Paris')],\n",
       " [EntityNode(label='PERSON', embedding=None, properties={'name': 'Bob'}, name='Bob'),\n",
       "  Relation(label='VISITED', source_id='Bob', target_id='London', properties={}),\n",
       "  EntityNode(label='CITY', embedding=None, properties={'name': 'London'}, name='London')],\n",
       " [EntityNode(label='PERSON', embedding=None, properties={'name': 'Alice'}, name='Alice'),\n",
       "  Relation(label='KNOWS', source_id='Alice', target_id='Bob', properties={}),\n",
       "  EntityNode(label='PERSON', embedding=None, properties={'name': 'Bob'}, name='Bob')]]"
      ]
     },
     "execution_count": 9,
     "metadata": {},
     "output_type": "execute_result"
    }
   ],
   "source": [
    "e1 = EntityNode(label=\"PERSON\", name=\"Alice\")\n",
    "e2 = EntityNode(label=\"PERSON\", name=\"Bob\")\n",
    "e3 = EntityNode(label=\"CITY\", name=\"Paris\")\n",
    "e4 = EntityNode(label=\"CITY\", name=\"London\")\n",
    "graph_store.upsert_nodes([e1, e2, e3, e4])\n",
    "\n",
    "r1 = Relation(label=\"KNOWS\", source_id=e1.id, target_id=e2.id)\n",
    "r2 = Relation(label=\"VISITED\", source_id=e1.id, target_id=e3.id)\n",
    "r3 = Relation(label=\"VISITED\", source_id=e2.id, target_id=e4.id)\n",
    "graph_store.upsert_relations([r1, r2, r3])\n",
    "\n",
    "graph_store.get_rel_map([e1, e2], depth=2)"
   ]
  },
  {
   "cell_type": "markdown",
   "metadata": {},
   "source": [
    "### Vector Query"
   ]
  },
  {
   "cell_type": "code",
   "execution_count": 10,
   "metadata": {},
   "outputs": [
    {
     "data": {
      "text/plain": [
       "([EntityNode(label='PERSON', embedding=None, properties={}, name='Alice'),\n",
       "  EntityNode(label='PERSON', embedding=None, properties={}, name='Bob')],\n",
       " [0.9998778131472615, 0.8771844461223388])"
      ]
     },
     "execution_count": 10,
     "metadata": {},
     "output_type": "execute_result"
    }
   ],
   "source": [
    "from llama_index.core.vector_stores.types import VectorStoreQuery\n",
    "\n",
    "entity1 = EntityNode(\n",
    "    label=\"PERSON\", name=\"Alice\", properties={\"embedding\": [0.1, 0.2, 0.3]}\n",
    ")\n",
    "entity2 = EntityNode(\n",
    "    label=\"PERSON\", name=\"Bob\", properties={\"embedding\": [0.9, 0.8, 0.7]}\n",
    ")\n",
    "graph_store.upsert_nodes([entity1, entity2])\n",
    "\n",
    "# # Query embedding somewhat closer to [0.1, 0.2, 0.3] than [0.9, 0.8, 0.7]\n",
    "query = VectorStoreQuery(query_embedding=[0.1, 0.2, 0.31], similarity_top_k=2)\n",
    "graph_store.vector_query(query)"
   ]
  },
  {
   "cell_type": "markdown",
   "metadata": {},
   "source": [
    "### Vector Index"
   ]
  },
  {
   "cell_type": "code",
   "execution_count": 12,
   "metadata": {},
   "outputs": [],
   "source": [
    "# Create a new graph\n",
    "graph_store = AgensPropertyGraphStore(graph_name=\"\", conf=conf, create=True, vector_dimension=3)"
   ]
  },
  {
   "cell_type": "code",
   "execution_count": 13,
   "metadata": {},
   "outputs": [],
   "source": [
    "entity1 = EntityNode(\n",
    "    label=\"PERSON\", name=\"Alice\", properties={\"embedding\": [0.1, 0.2, 0.3]}\n",
    ")\n",
    "entity2 = EntityNode(\n",
    "    label=\"PERSON\", name=\"Bob\", properties={\"embedding\": [0.9, 0.8, 0.7]}\n",
    ")\n",
    "\n",
    "graph_store.upsert_nodes([entity1, entity2])"
   ]
  },
  {
   "cell_type": "code",
   "execution_count": 14,
   "metadata": {},
   "outputs": [
    {
     "data": {
      "text/plain": [
       "([EntityNode(label='PERSON', embedding=None, properties={}, name='Alice'),\n",
       "  EntityNode(label='PERSON', embedding=None, properties={}, name='Bob')],\n",
       " [0.9998778131472615, 0.8771844461223388])"
      ]
     },
     "execution_count": 14,
     "metadata": {},
     "output_type": "execute_result"
    }
   ],
   "source": [
    "from llama_index.core.vector_stores.types import VectorStoreQuery\n",
    "\n",
    "# # Query embedding somewhat closer to [0.1, 0.2, 0.3] than [0.9, 0.8, 0.7]\n",
    "query = VectorStoreQuery(query_embedding=[0.1, 0.2, 0.31], similarity_top_k=2)\n",
    "graph_store.vector_query(query)"
   ]
  }
 ],
 "metadata": {
  "kernelspec": {
   "display_name": "llama-index-4149Ms1Y-py3.11",
   "language": "python",
   "name": "python3"
  },
  "language_info": {
   "codemirror_mode": {
    "name": "ipython",
    "version": 3
   },
   "file_extension": ".py",
   "mimetype": "text/x-python",
   "name": "python",
   "nbconvert_exporter": "python",
   "pygments_lexer": "ipython3",
   "version": "3.11.11"
  }
 },
 "nbformat": 4,
 "nbformat_minor": 2
}
