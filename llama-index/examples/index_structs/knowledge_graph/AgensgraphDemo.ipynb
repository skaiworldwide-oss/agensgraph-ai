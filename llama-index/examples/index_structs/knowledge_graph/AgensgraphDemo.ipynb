{
 "cells": [
  {
   "cell_type": "code",
   "execution_count": null,
   "metadata": {},
   "outputs": [],
   "source": [
    "%pip install llama_index\n",
    "%pip install /path/to/llama_index_graph_stores_agensgraph-0.1.0-py3-none-any.whl"
   ]
  },
  {
   "cell_type": "code",
   "execution_count": 41,
   "metadata": {},
   "outputs": [],
   "source": [
    "from llama_index_agensgraph.graph_stores.agensgraph import AgensGraphStore"
   ]
  },
  {
   "cell_type": "code",
   "execution_count": 42,
   "metadata": {},
   "outputs": [],
   "source": [
    "conf = {\n",
    "    \"dbname\": \"test\",\n",
    "    \"user\": \"\",\n",
    "    \"password\": \"\",\n",
    "    \"host\": \"localhost\",\n",
    "    \"port\": 5432,\n",
    "}\n",
    "\n",
    "# If you want to create a new graph, add the argument `create=True` to the constructor\n",
    "graph = AgensGraphStore(graph_name=\"\", conf=conf, create=True)"
   ]
  },
  {
   "cell_type": "code",
   "execution_count": 43,
   "metadata": {},
   "outputs": [
    {
     "data": {
      "text/plain": [
       "[]"
      ]
     },
     "execution_count": 43,
     "metadata": {},
     "output_type": "execute_result"
    }
   ],
   "source": [
    "graph.query(\"\"\"\n",
    "CREATE (:\"Entity\" {id: 'hello'})-[:idk]->(:\"Entity\" {id: 'hello2'})-[:idk]->(:\"Entity\" {id: 'hello3'});\n",
    "\"\"\")"
   ]
  },
  {
   "cell_type": "code",
   "execution_count": 56,
   "metadata": {},
   "outputs": [],
   "source": [
    "graph.refresh_schema()"
   ]
  },
  {
   "cell_type": "code",
   "execution_count": 57,
   "metadata": {},
   "outputs": [
    {
     "data": {
      "text/plain": [
       "{'node_props': {'Entity': [{'property': 'id', 'type': 'STRING'}]},\n",
       " 'rel_props': {'idk': [], 'IDK': []},\n",
       " 'relationships': [{'start': 'Entity', 'type': 'idk', 'end': 'Entity'}],\n",
       " 'metadata': {}}"
      ]
     },
     "execution_count": 57,
     "metadata": {},
     "output_type": "execute_result"
    }
   ],
   "source": [
    "graph.structured_schema"
   ]
  },
  {
   "cell_type": "code",
   "execution_count": 58,
   "metadata": {},
   "outputs": [],
   "source": [
    "graph.upsert_triplet(\"test\", \"idk\", \"test2\")"
   ]
  },
  {
   "cell_type": "code",
   "execution_count": 59,
   "metadata": {},
   "outputs": [
    {
     "data": {
      "text/plain": [
       "{'hello': [['idk', 'hello2'], ['idk', 'hello2', 'idk', 'hello3']],\n",
       " 'test': [['IDK', 'test2']]}"
      ]
     },
     "execution_count": 59,
     "metadata": {},
     "output_type": "execute_result"
    }
   ],
   "source": [
    "graph.get_rel_map([\"hello\", \"test\"])"
   ]
  },
  {
   "cell_type": "code",
   "execution_count": 55,
   "metadata": {},
   "outputs": [],
   "source": [
    "graph.delete(\"test\", \"IDK\", \"test2\")"
   ]
  }
 ],
 "metadata": {
  "kernelspec": {
   "display_name": "llama-index-4149Ms1Y-py3.11",
   "language": "python",
   "name": "python3"
  },
  "language_info": {
   "codemirror_mode": {
    "name": "ipython",
    "version": 3
   },
   "file_extension": ".py",
   "mimetype": "text/x-python",
   "name": "python",
   "nbconvert_exporter": "python",
   "pygments_lexer": "ipython3",
   "version": "3.11.11"
  }
 },
 "nbformat": 4,
 "nbformat_minor": 2
}
