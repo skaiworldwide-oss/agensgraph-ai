{
 "cells": [
  {
   "cell_type": "markdown",
   "id": "c94240f5",
   "metadata": {},
   "source": [
    "# Agensgraph\n",
    "\n",
    ">[AgensGraph](https://github.com/skaiworldwide-oss/agensgraph) is a cutting-edge multi-model graph database designed for modern complex data environments. By supporting both relational and graph data models simultaneously, AgensGraph allows developers to seamlessly integrate legacy relational data with the flexible graph data model within a single database. AgensGraph is built on the robust PostgreSQL RDBMS, providing a highly reliable, fully-featured platform ready for enterprise use.\n",
    "\n",
    ">This notebook shows how to use LLMs to provide a natural language interface to a graph database you can query with the `Cypher` query language.\n",
    "\n",
    ">[Cypher](https://en.wikipedia.org/wiki/Cypher_(query_language)) is a declarative graph query language that allows for expressive and efficient data querying in a property graph.\n"
   ]
  },
  {
   "cell_type": "markdown",
   "id": "dbc0ee68",
   "metadata": {},
   "source": [
    "## Setting up\n",
    "\n",
    "You will need to have a running `Agensgraph` instance. One option for testing is to run a docker container using the official [Agensgraph](https://hub.docker.com/r/skaiworldwide/agensgraph) docker image.\n",
    "You can run a local docker container by executing the following script:\n",
    "\n",
    "```\n",
    "docker run -d \\\n",
    "    --name agensgraph \\\n",
    "    -e POSTGRES_PASSWORD=agensgraph \\\n",
    "    -e PGDATA=/var/lib/postgresql/data/pgdata \\\n",
    "    -v /custom/mount:/var/lib/postgresql/data \\\n",
    "    skaiworldwide/agensgraph:latest\n",
    "\n",
    "```\n",
    "\n",
    "Additional instructions on running in docker can be found [here](https://hub.docker.com/r/skaiworldwide/agensgraph)."
   ]
  },
  {
   "cell_type": "code",
   "execution_count": null,
   "id": "7069a1d8",
   "metadata": {},
   "outputs": [],
   "source": [
    "%pip install langchain\n",
    "%pip install langchain_graph_store_agensgraph"
   ]
  },
  {
   "cell_type": "code",
   "execution_count": null,
   "id": "62812aad",
   "metadata": {},
   "outputs": [],
   "source": [
    "from langchain.graphs.agensgraph import AgensGraph"
   ]
  },
  {
   "cell_type": "code",
   "execution_count": null,
   "id": "0928915d",
   "metadata": {},
   "outputs": [],
   "source": [
    "conf = {\n",
    "    \"database\": \"test\",\n",
    "    \"user\": \"\",\n",
    "    \"password\": \"\",\n",
    "    \"host\": \"localhost\",\n",
    "    \"port\": 5432,\n",
    "}\n",
    "\n",
    "# If you want to create a new graph, add the argument `create=True` to the constructor\n",
    "graph = AgensGraph(graph_name=\"\", conf=conf)"
   ]
  },
  {
   "cell_type": "markdown",
   "id": "995ea9b9",
   "metadata": {},
   "source": [
    "## Seeding the database\n",
    "\n",
    "Assuming your database is empty, you can populate it using Cypher query language. The following Cypher statement is idempotent, which means the database information will be the same if you run it one or multiple times."
   ]
  },
  {
   "cell_type": "code",
   "execution_count": null,
   "id": "fedd26b9",
   "metadata": {},
   "outputs": [],
   "source": [
    "graph.query(\n",
    "    \"\"\"\n",
    "    MERGE (m:\"Movie\" {name:'Top Gun'})\n",
    "    WITH m\n",
    "    UNWIND ['Tom Cruise', 'Val Kilmer', 'Anthony Edwards', 'Meg Ryan'] AS actor\n",
    "    MERGE (a:\"Actor\" {name:actor})\n",
    "    MERGE (a)-[:\"ACTED_IN\"]->(m)\n",
    "    \"\"\"\n",
    ")"
   ]
  },
  {
   "cell_type": "markdown",
   "id": "58c1a8ea",
   "metadata": {},
   "source": [
    "## Refresh graph schema information\n",
    "If the schema of database changes, you can refresh the schema information needed to generate Cypher statements."
   ]
  },
  {
   "cell_type": "code",
   "execution_count": null,
   "id": "4e3de44f",
   "metadata": {},
   "outputs": [],
   "source": [
    "graph.refresh_schema()"
   ]
  },
  {
   "cell_type": "code",
   "execution_count": null,
   "id": "1fe76ccd",
   "metadata": {},
   "outputs": [],
   "source": [
    "print(graph.schema)"
   ]
  }
 ],
 "metadata": {
  "kernelspec": {
   "display_name": "Python 3 (ipykernel)",
   "language": "python",
   "name": "python3"
  },
  "language_info": {
   "codemirror_mode": {
    "name": "ipython",
    "version": 3
   },
   "file_extension": ".py",
   "mimetype": "text/x-python",
   "name": "python",
   "nbconvert_exporter": "python",
   "pygments_lexer": "ipython3",
   "version": "3.11.11"
  }
 },
 "nbformat": 4,
 "nbformat_minor": 5
}
